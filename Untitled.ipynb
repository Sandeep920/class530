{
 "cells": [
  {
   "cell_type": "code",
   "execution_count": null,
   "id": "4c477897",
   "metadata": {},
   "outputs": [],
   "source": [
    "if <condition>:\n",
    "    <operations>\n",
    "elif<condition>:\n",
    "    <operstions>\n",
    ".....\n",
    ".....\n",
    "else:\n",
    "    <operations>"
   ]
  },
  {
   "cell_type": "code",
   "execution_count": 1,
   "id": "74f35042",
   "metadata": {},
   "outputs": [
    {
     "name": "stdout",
     "output_type": "stream",
     "text": [
      "Enter n =-10\n",
      "n is -ve\n"
     ]
    }
   ],
   "source": [
    "n = int(input(\"Enter n =\"))\n",
    "if n>0:\n",
    "    print(\"n is +ve\")\n",
    "else:\n",
    "    print(\"n is -ve\")\n",
    "\n",
    "\n"
   ]
  },
  {
   "cell_type": "code",
   "execution_count": 2,
   "id": "cf84b435",
   "metadata": {},
   "outputs": [
    {
     "name": "stdout",
     "output_type": "stream",
     "text": [
      "False\n"
     ]
    }
   ],
   "source": [
    "n = 10\n",
    "print(n<10)"
   ]
  },
  {
   "cell_type": "code",
   "execution_count": 3,
   "id": "d30613a3",
   "metadata": {},
   "outputs": [
    {
     "name": "stdout",
     "output_type": "stream",
     "text": [
      "True\n"
     ]
    }
   ],
   "source": [
    "n = -10\n",
    "print(n<10)"
   ]
  },
  {
   "cell_type": "code",
   "execution_count": 4,
   "id": "5366be00",
   "metadata": {},
   "outputs": [
    {
     "data": {
      "text/plain": [
       "True"
      ]
     },
     "execution_count": 4,
     "metadata": {},
     "output_type": "execute_result"
    }
   ],
   "source": [
    "10%2==0"
   ]
  },
  {
   "cell_type": "code",
   "execution_count": null,
   "id": "f2fdf1ac",
   "metadata": {},
   "outputs": [],
   "source": [
    "n = int(input(\"Enter n =\"))\n",
    "if n%2 == 0:\n",
    "    print(n,\"is even\")\n",
    "else:\n",
    "    print(n,\"is odd\")\n",
    "    "
   ]
  },
  {
   "cell_type": "code",
   "execution_count": 10,
   "id": "dc54a692",
   "metadata": {},
   "outputs": [
    {
     "name": "stdout",
     "output_type": "stream",
     "text": [
      "Enter n =2\n",
      "Enter m =10\n",
      "10 is greater\n"
     ]
    }
   ],
   "source": [
    "n = int(input(\"Enter n =\"))\n",
    "m = int(input(\"Enter m =\"))\n",
    "if n>m:\n",
    "    print(n,\"is greater\")\n",
    "elif m>n:\n",
    "    print(m,\"is greater\")\n",
    "else:\n",
    "    print(m,n,\"both are equal\")"
   ]
  },
  {
   "cell_type": "code",
   "execution_count": 11,
   "id": "e586eecf",
   "metadata": {},
   "outputs": [
    {
     "name": "stdout",
     "output_type": "stream",
     "text": [
      "10 is greater\n"
     ]
    }
   ],
   "source": [
    "n = 10\n",
    "m = 2\n",
    "if n>m:\n",
    "    print(n,\"is greater\")\n",
    "elif m>n:\n",
    "    print(m,\"is greater\")\n",
    "else:\n",
    "    print(m,n,\"both are equal\")\n"
   ]
  },
  {
   "cell_type": "code",
   "execution_count": null,
   "id": "5ef91cab",
   "metadata": {},
   "outputs": [],
   "source": [
    "n = int(input(\"Enter n =\"))\n",
    "m = int(input(\"Enter m =\"))\n",
    "o = input(\"Enter + or - or * or /\")\n",
    "if o==\"+\":\n",
    "    print(n+m)\n",
    "elif o == \"-\":\n",
    "    print(n-m)\n",
    "elif o == \"*\":\n",
    "     print(n*m)\n",
    "elif o == \"/\" and m != 0:\n",
    "     print(n/m)\n",
    "elif o == \"/\" and m != 0:\n",
    "    print(\"the value of b cannot be 0\")\n",
    "\n",
    "else:\n",
    "    print(Error)\n",
    "    \n",
    "    \n",
    "\n",
    "    \n",
    "\n",
    "\n",
    "\n",
    "\n",
    "\n",
    "\n",
    "\n",
    "\n",
    "\n",
    "\n",
    "\n",
    "\n",
    "\n",
    "\n",
    "\n",
    "\n",
    "\n",
    "\n",
    "\n",
    "\n",
    "\n",
    "\n"
   ]
  },
  {
   "cell_type": "code",
   "execution_count": 13,
   "id": "cf804aab",
   "metadata": {},
   "outputs": [
    {
     "name": "stdout",
     "output_type": "stream",
     "text": [
      "Enter physics marks = 100\n",
      "Enter chemistry marks = 50\n",
      "Enter math marks = 90\n",
      "Enter english marks = 20\n",
      "Enter nepali marks = 30\n",
      "The grade is C\n"
     ]
    }
   ],
   "source": [
    "physics = int(input(\"Enter physics marks = \"))\n",
    "chemistry = int(input(\"Enter chemistry marks = \"))\n",
    "math = int(input(\"Enter math marks = \"))\n",
    "english = int(input(\"Enter english marks = \"))\n",
    "nepali = int(input(\"Enter nepali marks = \"))\n",
    "total = physics + chemistry + math + english + nepali\n",
    "per = total/5\n",
    "if per >= 80:\n",
    "    grade = \"A\"\n",
    "elif per >= 60:\n",
    "    grade = \"B\"\n",
    "elif per >= 50:\n",
    "     grade = \"C\"\n",
    "else:\n",
    "    grade =  \"F\"\n",
    "    \n",
    "print(\"The grade is\", grade)"
   ]
  },
  {
   "cell_type": "code",
   "execution_count": null,
   "id": "5678d340",
   "metadata": {},
   "outputs": [],
   "source": [
    "#logical operator\n",
    "#and(&)\n",
    "#or(|)"
   ]
  },
  {
   "cell_type": "code",
   "execution_count": null,
   "id": "e42d2f3b",
   "metadata": {},
   "outputs": [],
   "source": [
    "# and(&)\n",
    "\n",
    "print(True and False)\n",
    "print(True and True)"
   ]
  },
  {
   "cell_type": "code",
   "execution_count": 4,
   "id": "c7451f35",
   "metadata": {},
   "outputs": [
    {
     "name": "stdout",
     "output_type": "stream",
     "text": [
      "Enter a = -11\n",
      "Enter b = 22\n",
      "Enter + - * /  21\n",
      "Enter valid operator\n"
     ]
    }
   ],
   "source": [
    "a = int(input(\"Enter a = \"))\n",
    "b = int(input(\"Enter b = \"))\n",
    "o = input(\"Enter + - * /  \")\n",
    "if o == '+':\n",
    "    print(a+b)\n",
    "elif o == '-':\n",
    "    print(a-b)\n",
    "elif o == '*':\n",
    "    print(a*b)\n",
    "elif (o == '/') and (b != 0):\n",
    "    print(a/b)\n",
    "elif (o == '/'):\n",
    "    if b!=0:\n",
    "        print(a/b)\n",
    "    else:\n",
    "        print(\"The value of b can not be zero\")\n",
    "else:\n",
    "    print(\"Enter valid operator\")"
   ]
  },
  {
   "cell_type": "code",
   "execution_count": null,
   "id": "2ef04f79",
   "metadata": {},
   "outputs": [],
   "source": [
    " #nested if \n",
    "\n",
    "# if <condition>:\n",
    "#     if<condition>:\n",
    "#         <operations>\n",
    "#     else:\n",
    "#         <operations>\n",
    "# else:\n",
    "#     <operations>"
   ]
  },
  {
   "cell_type": "code",
   "execution_count": 2,
   "id": "94f2b2b0",
   "metadata": {},
   "outputs": [
    {
     "name": "stdout",
     "output_type": "stream",
     "text": [
      "Enter n = -11\n",
      "-11 is -ve and odd\n"
     ]
    }
   ],
   "source": [
    "n = int(input(\"Enter n = \"))\n",
    "if n>=0:\n",
    "    if n%2 == 0:\n",
    "        print (n,\"is +ve and even\")\n",
    "    else:\n",
    "        print(n, \"is +ve and odd\")\n",
    "else:\n",
    "    if n%2 != 0:\n",
    "        print(n, \"is -ve and odd\")\n",
    "    else:\n",
    "        print(n,\"is -ve and even\")"
   ]
  },
  {
   "cell_type": "code",
   "execution_count": null,
   "id": "1698bc91",
   "metadata": {},
   "outputs": [],
   "source": [
    "# for loop- certainity  huda use garnu\n",
    "\n",
    "# while loop- uncertainity huda use garnu"
   ]
  },
  {
   "cell_type": "code",
   "execution_count": null,
   "id": "7df410d5",
   "metadata": {},
   "outputs": [],
   "source": [
    "#for loop\n",
    "# range(5)  # 0,1,2,3,4 \n",
    "# range(1,5) # 1,2,3,4\n",
    "# range(1, 10, 2) # 1, 3, 5, 7, 9"
   ]
  },
  {
   "cell_type": "code",
   "execution_count": 8,
   "id": "13e525d4",
   "metadata": {},
   "outputs": [
    {
     "name": "stdout",
     "output_type": "stream",
     "text": [
      "0\n",
      "1\n",
      "2\n",
      "3\n",
      "4\n"
     ]
    }
   ],
   "source": [
    "for i in range(5):\n",
    "    print(i)"
   ]
  },
  {
   "cell_type": "code",
   "execution_count": 9,
   "id": "d45ab9d8",
   "metadata": {},
   "outputs": [
    {
     "name": "stdout",
     "output_type": "stream",
     "text": [
      "1 hello world\n",
      "2 hello world\n",
      "3 hello world\n",
      "4 hello world\n"
     ]
    }
   ],
   "source": [
    "for i in range(1,5):\n",
    "    print(i, \"hello world\")"
   ]
  },
  {
   "cell_type": "code",
   "execution_count": 10,
   "id": "a7ed82e9",
   "metadata": {},
   "outputs": [
    {
     "name": "stdout",
     "output_type": "stream",
     "text": [
      "1 hello world\n",
      "3 hello world\n",
      "5 hello world\n",
      "7 hello world\n",
      "9 hello world\n"
     ]
    }
   ],
   "source": [
    "for i in range(1,10,2): #(1,3,5,7,9)\n",
    "    print(i, \"hello world\")"
   ]
  },
  {
   "cell_type": "code",
   "execution_count": 11,
   "id": "fffd883b",
   "metadata": {},
   "outputs": [
    {
     "name": "stdout",
     "output_type": "stream",
     "text": [
      "0\n",
      "5\n",
      "10\n",
      "15\n",
      "20\n",
      "25\n",
      "30\n",
      "35\n",
      "40\n",
      "45\n"
     ]
    }
   ],
   "source": [
    "for i in range(10): \n",
    "    print(5*i)"
   ]
  },
  {
   "cell_type": "code",
   "execution_count": 12,
   "id": "71cb6cf2",
   "metadata": {},
   "outputs": [
    {
     "name": "stdout",
     "output_type": "stream",
     "text": [
      "5\n",
      "10\n",
      "15\n",
      "20\n",
      "25\n",
      "30\n",
      "35\n",
      "40\n",
      "45\n"
     ]
    }
   ],
   "source": [
    "for i in range(1,10): \n",
    "    print(5*i)"
   ]
  },
  {
   "cell_type": "code",
   "execution_count": 13,
   "id": "e12226c4",
   "metadata": {},
   "outputs": [
    {
     "name": "stdout",
     "output_type": "stream",
     "text": [
      "5\n",
      "10\n",
      "15\n",
      "20\n",
      "25\n",
      "30\n",
      "35\n",
      "40\n",
      "45\n",
      "50\n"
     ]
    }
   ],
   "source": [
    "for i in range(1,11): \n",
    "    print(5*i)"
   ]
  },
  {
   "cell_type": "code",
   "execution_count": 14,
   "id": "7089ee40",
   "metadata": {},
   "outputs": [
    {
     "name": "stdout",
     "output_type": "stream",
     "text": [
      "Enter n =5\n",
      "5\n",
      "10\n",
      "15\n",
      "20\n",
      "25\n",
      "30\n",
      "35\n",
      "40\n",
      "45\n",
      "50\n"
     ]
    }
   ],
   "source": [
    "n = int(input(\"Enter n =\"))\n",
    "for i in range(1,11): \n",
    "    print(n*i)\n"
   ]
  },
  {
   "cell_type": "code",
   "execution_count": 1,
   "id": "993d9501",
   "metadata": {},
   "outputs": [
    {
     "name": "stdout",
     "output_type": "stream",
     "text": [
      "Enter n =5\n",
      "5 * 1 = 5\n",
      "5 * 2 = 10\n",
      "5 * 3 = 15\n",
      "5 * 4 = 20\n",
      "5 * 5 = 25\n",
      "5 * 6 = 30\n",
      "5 * 7 = 35\n",
      "5 * 8 = 40\n",
      "5 * 9 = 45\n",
      "5 * 10 = 50\n"
     ]
    }
   ],
   "source": [
    "n = int(input(\"Enter n =\"))\n",
    "for i in range(1,11): \n",
    "    print(n,\"*\",i, \"=\", n*i)"
   ]
  },
  {
   "cell_type": "code",
   "execution_count": null,
   "id": "383167e3",
   "metadata": {},
   "outputs": [
    {
     "name": "stdout",
     "output_type": "stream",
     "text": [
      "Enter n =5\n",
      "Enter x = 10\n",
      "Enter x = 12\n",
      "Enter x = 13\n"
     ]
    }
   ],
   "source": [
    "s = 0\n",
    "n = int(input(\"Enter n =\"))\n",
    "for i in range(n):\n",
    "    x = int(input(\"Enter x = \"))\n",
    "    s = s + x\n",
    "    \n",
    "print(s)\n",
    "    \n",
    "    \n"
   ]
  },
  {
   "cell_type": "code",
   "execution_count": null,
   "id": "f9c08c85",
   "metadata": {},
   "outputs": [
    {
     "name": "stdout",
     "output_type": "stream",
     "text": [
      "Enter n =5\n",
      "Enter x = 10\n",
      "Enter x = 12\n"
     ]
    }
   ],
   "source": [
    "s = 1\n",
    "n = int(input(\"Enter n =\"))\n",
    "for i in range(n):\n",
    "    x = int(input(\"Enter x = \"))\n",
    "    s = s * x\n",
    "    \n",
    "print(s)\n",
    "    "
   ]
  },
  {
   "cell_type": "code",
   "execution_count": null,
   "id": "4718a4c9",
   "metadata": {},
   "outputs": [],
   "source": []
  }
 ],
 "metadata": {
  "kernelspec": {
   "display_name": "Python 3 (ipykernel)",
   "language": "python",
   "name": "python3"
  },
  "language_info": {
   "codemirror_mode": {
    "name": "ipython",
    "version": 3
   },
   "file_extension": ".py",
   "mimetype": "text/x-python",
   "name": "python",
   "nbconvert_exporter": "python",
   "pygments_lexer": "ipython3",
   "version": "3.9.13"
  }
 },
 "nbformat": 4,
 "nbformat_minor": 5
}
